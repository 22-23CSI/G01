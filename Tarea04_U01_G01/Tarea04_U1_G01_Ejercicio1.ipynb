{
  "nbformat": 4,
  "nbformat_minor": 0,
  "metadata": {
    "colab": {
      "provenance": []
    },
    "kernelspec": {
      "name": "python3",
      "display_name": "Python 3"
    },
    "language_info": {
      "name": "python"
    }
  },
  "cells": [
    {
      "cell_type": "markdown",
      "source": [
        "Grupo 1:\n",
        "\n",
        "\n",
        "*   Carrera Chávez Nicolás Alexander\n",
        "*   Cedeño Santos Cristhian Daniel\n",
        "*   Chacón Galarza Kenlly Lenin\n",
        "*   Sánchez Iñiguez Jorge Luis\n"
      ],
      "metadata": {
        "id": "9yapa4YrOyln"
      }
    },
    {
      "cell_type": "markdown",
      "source": [
        "1. Algoritmo que escriba todas las permutaciones posibles de una palabra de longitud n (Anagrama). Tanto la palabra como el valor de n se ingresan al iniciar el algoritmo. El algoritmo debe mostrar el número total de permutaciones y todas ellas ordenadas alfabéticamente."
      ],
      "metadata": {
        "id": "SakedZVugkib"
      }
    },
    {
      "cell_type": "code",
      "source": [
        "from itertools import permutations\n",
        "print(\"Ingrese la palabra: \")\n",
        "word = input()\n",
        "print(\"Ingrese n\")\n",
        "n = input()\n",
        "lst = list(permutations(word))\n",
        "print(\"El numero total de permutaciones es \", len(lst))\n",
        "print(sorted(lst))\n"
      ],
      "metadata": {
        "id": "NVu-7cvlgp5T",
        "colab": {
          "base_uri": "https://localhost:8080/"
        },
        "outputId": "05f8ea0e-0329-42f8-b3a8-37b430851bb2"
      },
      "execution_count": 10,
      "outputs": [
        {
          "output_type": "stream",
          "name": "stdout",
          "text": [
            "Ingrese la palabra: \n",
            "loja\n",
            "Ingrese n\n",
            "4\n",
            "El numero total de permutaciones es  24\n",
            "[('a', 'j', 'l', 'o'), ('a', 'j', 'o', 'l'), ('a', 'l', 'j', 'o'), ('a', 'l', 'o', 'j'), ('a', 'o', 'j', 'l'), ('a', 'o', 'l', 'j'), ('j', 'a', 'l', 'o'), ('j', 'a', 'o', 'l'), ('j', 'l', 'a', 'o'), ('j', 'l', 'o', 'a'), ('j', 'o', 'a', 'l'), ('j', 'o', 'l', 'a'), ('l', 'a', 'j', 'o'), ('l', 'a', 'o', 'j'), ('l', 'j', 'a', 'o'), ('l', 'j', 'o', 'a'), ('l', 'o', 'a', 'j'), ('l', 'o', 'j', 'a'), ('o', 'a', 'j', 'l'), ('o', 'a', 'l', 'j'), ('o', 'j', 'a', 'l'), ('o', 'j', 'l', 'a'), ('o', 'l', 'a', 'j'), ('o', 'l', 'j', 'a')]\n"
          ]
        }
      ]
    }
  ]
}