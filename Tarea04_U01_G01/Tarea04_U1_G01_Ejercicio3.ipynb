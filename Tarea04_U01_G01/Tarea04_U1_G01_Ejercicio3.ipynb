{
  "nbformat": 4,
  "nbformat_minor": 0,
  "metadata": {
    "colab": {
      "provenance": []
    },
    "kernelspec": {
      "name": "python3",
      "display_name": "Python 3"
    },
    "language_info": {
      "name": "python"
    }
  },
  "cells": [
    {
      "cell_type": "markdown",
      "source": [
        "Grupo 1:\n",
        "\n",
        "\n",
        "*   Carrera Chávez Nicolás Alexander\n",
        "*   Cedeño Santos Cristhian Daniel\n",
        "*   Chacón Galarza Kenlly Lenin\n",
        "*   Sánchez Iñiguez Jorge Luis\n"
      ],
      "metadata": {
        "id": "AXFBkd50xqJf"
      }
    },
    {
      "cell_type": "markdown",
      "source": [
        "3. Algoritmo que realice el cifrado de un mensaje por permutación de columnas, teniendo como clave n columnas. Tanto n como el texto del mensaje se ingresan al iniciar el algoritmo. El algoritmo debe controlar que el número de caracteres del mensaje (sin espacios), sea menor o igual que n x n. Imprima la matriz de cifrado, el mensaje original y el mensaje cifrado.  Si en la matriz de cifrado sobran espacios para almacenar los caracteres del mensaje original, estos deben llenarse con \"0\"."
      ],
      "metadata": {
        "id": "1i0hcbXRwaiU"
      }
    },
    {
      "cell_type": "code",
      "execution_count": 2,
      "metadata": {
        "colab": {
          "base_uri": "https://localhost:8080/"
        },
        "id": "0Jdooig-wWY5",
        "outputId": "6c649657-62a7-44f3-e97e-8bb05ad33deb"
      },
      "outputs": [
        {
          "output_type": "stream",
          "name": "stdout",
          "text": [
            "Ingrese el mensaje a cifrar\n",
            "hola mundo\n",
            "9\n",
            "Ingrese el numero de columnas\n",
            "3\n",
            "La clave de columnas es: 3\n",
            "Mensaje Original HOLAMUNDO\n",
            "Matriz de cifrado:\n",
            "[['H' 'O' 'L']\n",
            " ['A' 'M' 'U']\n",
            " ['N' 'D' 'O']]\n",
            "Mensaje cifrado: HANOMDLUO\n"
          ]
        }
      ],
      "source": [
        "from itertools import permutations\n",
        "from math import ceil\n",
        "import numpy as np\n",
        "\n",
        "print(\"Ingrese el mensaje a cifrar\")\n",
        "msj = input().replace(\" \",\"\").upper()\n",
        "numLon = len(msj)\n",
        "print(numLon)\n",
        "\n",
        "print(\"Ingrese el numero de columnas\")\n",
        "num = int(input())\n",
        "\n",
        "condicion = num*num\n",
        "\n",
        "if numLon > condicion:\n",
        "  print(\"Imposible cifrar\")\n",
        "else:\n",
        "  result = \"\"\n",
        "\n",
        "  print(f'La clave de columnas es: {num}')\n",
        "\n",
        "  print(f'Mensaje Original {msj}')\n",
        "\n",
        "  msjCif = msj\n",
        "\n",
        "  lista = np.array([\"0\"]*condicion).reshape((num,num))\n",
        "  \n",
        "  print(\"Matriz de cifrado:\")\n",
        "  for i in range(numLon):\n",
        "    for j in range(numLon):\n",
        "        lista.put([i,j], msj[j])\n",
        "  print(lista)\n",
        "\n",
        "  for k in range(lista.size):\n",
        "   if len(msjCif) < condicion:\n",
        "     msjCif = msjCif+\"0\"\n",
        "\n",
        "  for j in range(num):\n",
        "    result += msjCif[j::num]\n",
        "  \n",
        "  print(f'Mensaje cifrado: {result}') "
      ]
    }
  ]
}