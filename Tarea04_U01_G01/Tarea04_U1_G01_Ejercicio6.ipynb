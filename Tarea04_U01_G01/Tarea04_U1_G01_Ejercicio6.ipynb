{
  "nbformat": 4,
  "nbformat_minor": 0,
  "metadata": {
    "colab": {
      "provenance": []
    },
    "kernelspec": {
      "name": "python3",
      "display_name": "Python 3"
    },
    "language_info": {
      "name": "python"
    }
  },
  "cells": [
    {
      "cell_type": "markdown",
      "source": [
        "Grupo 1:\n",
        "\n",
        "\n",
        "*   Carrera Chávez Nicolás Alexander\n",
        "*   Cedeño Santos Cristhian Daniel\n",
        "*   Chacón Galarza Kenlly Lenin\n",
        "*   Sánchez Iñiguez Jorge Luis\n"
      ],
      "metadata": {
        "id": "Qcio9tcBxwkS"
      }
    },
    {
      "cell_type": "markdown",
      "source": [
        "6. Algoritmo que realice el cifrado de una cadena de caracteres utilizando la siguiente tabla de cifrado:\n",
        "\n",
        "La cadena de caracteres se ingresa al iniciar el programa. Si alguna letra ingresada en el texto no existe en la matriz, coloque \"00\". Imprima la matriz de cifrado, el mensaje original y el mensaje cifrado.\n",
        "\n",
        "\n",
        "![image.png](data:image/png;base64,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)\n"
      ],
      "metadata": {
        "id": "YUDbePV_w417"
      }
    },
    {
      "cell_type": "code",
      "execution_count": 1,
      "metadata": {
        "colab": {
          "base_uri": "https://localhost:8080/"
        },
        "id": "7ZpiV87Gw17-",
        "outputId": "74789745-438c-4be0-ecba-5e5b33e82bf5"
      },
      "outputs": [
        {
          "output_type": "stream",
          "name": "stdout",
          "text": [
            "Tu cadena inicial: hola mundo\n",
            "h  ->  CB\n",
            "o  ->  EC\n",
            "l  ->  BC\n",
            "a  ->  AA\n",
            "   ->  00\n",
            "m  ->  CC\n",
            "u  ->  ED\n",
            "n  ->  DC\n",
            "d  ->  DA\n",
            "o  ->  EC\n",
            "Mensaje cifrado:  CBECBCAA00CCEDDCDAEC\n"
          ]
        }
      ],
      "source": [
        "text = input(\"Tu cadena inicial: \")\n",
        "crip_text = \"\"\n",
        "replace = {\n",
        "    \"a\":\"AA\",\n",
        "    \"b\":\"BA\",\n",
        "    \"c\":\"CA\",\n",
        "    \"d\":\"DA\",\n",
        "    \"e\":\"EA\",\n",
        "    \"f\":\"AB\",\n",
        "    \"g\":\"BB\",\n",
        "    \"h\":\"CB\",\n",
        "    \"i\":\"DB\",\n",
        "    \"j\":\"EB\",\n",
        "    \"k\":\"AC\",\n",
        "    \"l\":\"BC\",\n",
        "    \"m\":\"CC\",\n",
        "    \"n\":\"DC\",\n",
        "    \"o\":\"EC\",\n",
        "    \"p\":\"AD\",\n",
        "    \"r\":\"BD\",\n",
        "    \"s\":\"CD\",\n",
        "    \"t\":\"DD\",\n",
        "    \"u\":\"ED\",\n",
        "    \"v\":\"AE\",\n",
        "    \"w\":\"BE\",\n",
        "    \"x\":\"CE\",\n",
        "    \"y\":\"DE\",\n",
        "    \"z\":\"EE\",\n",
        "    \" \":\"00\",\n",
        "    \"q\":\"00\",\n",
        "    \"á\":\"00\",\n",
        "    \"é\":\"00\",\n",
        "    \"í\":\"00\",\n",
        "    \"ó\":\"00\",\n",
        "    \"ú\":\"00\",\n",
        "    1:\"00\",\n",
        "    2:\"00\",\n",
        "    3:\"00\",\n",
        "    4:\"00\",\n",
        "    5:\"00\",\n",
        "    6:\"00\",\n",
        "    7:\"00\",\n",
        "    8:\"00\",\n",
        "    9:\"00\",\n",
        "    0:\"00\",\n",
        "    \"ñ\":\"00\"\n",
        "}\n",
        "\n",
        "for ch in text.lower():\n",
        "  crip_text += replace.get(ch)\n",
        "  print(ch, \" -> \", replace.get(ch))\n",
        "\n",
        "print(\"Mensaje cifrado: \",crip_text)"
      ]
    }
  ]
}