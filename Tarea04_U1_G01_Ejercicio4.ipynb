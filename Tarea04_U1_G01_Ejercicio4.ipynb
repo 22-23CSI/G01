{
  "nbformat": 4,
  "nbformat_minor": 0,
  "metadata": {
    "colab": {
      "provenance": []
    },
    "kernelspec": {
      "name": "python3",
      "display_name": "Python 3"
    },
    "language_info": {
      "name": "python"
    }
  },
  "cells": [
    {
      "cell_type": "markdown",
      "source": [
        "Grupo 1:\n",
        "\n",
        "\n",
        "*   Carrera Chávez Nicolás Alexander\n",
        "*   Cedeño Santos Cristhian Daniel\n",
        "*   Chacón Galarza Kenlly Lenin\n",
        "*   Sánchez Iñiguez Jorge Luis\n"
      ],
      "metadata": {
        "id": "SqeJZYwfxrik"
      }
    },
    {
      "cell_type": "markdown",
      "source": [
        "4. Algoritmo que realice el cifrado de una cadena de caracteres mediante un método de sustitución Monoalfabético de desplazamiento n caracteres a la derecha. Tanto la palabra como el valor de n se ingresan al iniciar el algoritmo. El algoritmo debe mostrar el alfabeto original, el alfabeto cifrado, la cadena de caracteres ingresada y su resultado.\n",
        "\n"
      ],
      "metadata": {
        "id": "87f72RaQwojL"
      }
    },
    {
      "cell_type": "code",
      "execution_count": 1,
      "metadata": {
        "colab": {
          "base_uri": "https://localhost:8080/"
        },
        "id": "6yvYHAcLwe1m",
        "outputId": "72fa2e37-8d15-431c-bfc2-3951d2b6cdb2"
      },
      "outputs": [
        {
          "output_type": "stream",
          "name": "stdout",
          "text": [
            "Ingrese la palabra: \n",
            "hola mundo\n",
            "Ingrese el numero de desplazamientos\n",
            "3\n",
            "El alfabeto inicial es:  ['a', 'b', 'c', 'd', 'e', 'f', 'g', 'h', 'i', 'j', 'k', 'l', 'm', 'n', 'ñ', 'o', 'p', 'q', 'r', 's', 't', 'u', 'v', 'w', 'x', 'y', 'z']\n",
            "El nuevo alfabeto es:    ['d', 'e', 'f', 'g', 'h', 'i', 'j', 'k', 'l', 'm', 'n', 'ñ', 'o', 'p', 'q', 'r', 's', 't', 'u', 'v', 'w', 'x', 'y', 'z', 'a', 'b', 'c']\n",
            "La palabra inicial es:  holamundo\n",
            "La nueva palabra es:    krñdoxpgr\n"
          ]
        }
      ],
      "source": [
        "alfabeto = ['a','b','c','d','e','f','g','h','i','j','k','l','m','n','ñ','o','p','q','r','s','t','u','v','w','x','y','z']\n",
        "alfabetoN = []\n",
        "print(\"Ingrese la palabra: \")\n",
        "word = input().replace(\" \",\"\").lower()\n",
        "\n",
        "print(\"Ingrese el numero de desplazamientos\")\n",
        "n = input()\n",
        "nnum = int(n) \n",
        "i,j, newWord = 0,0,\"\"\n",
        "while i<len(alfabeto): \n",
        "  alfabetoN.append((alfabeto[(i+nnum)%27]))\n",
        "  i+=1\n",
        "while j<len(word):\n",
        "  newWord+=alfabetoN[alfabeto.index(word[j])]\n",
        "  j+=1\n",
        "print(\"El alfabeto inicial es: \", alfabeto)\n",
        "print(\"El nuevo alfabeto es:   \", alfabetoN)\n",
        "print(\"La palabra inicial es: \", word )\n",
        "print(\"La nueva palabra es:   \",newWord)"
      ]
    }
  ]
}