{
  "nbformat": 4,
  "nbformat_minor": 0,
  "metadata": {
    "colab": {
      "provenance": []
    },
    "kernelspec": {
      "name": "python3",
      "display_name": "Python 3"
    },
    "language_info": {
      "name": "python"
    }
  },
  "cells": [
    {
      "cell_type": "markdown",
      "source": [
        "Grupo 1:\n",
        "\n",
        "\n",
        "*   Carrera Chávez Nicolás Alexander\n",
        "*   Cedeño Santos Cristhian Daniel\n",
        "*   Chacón Galarza Kenlly Lenin\n",
        "*   Sánchez Iñiguez Jorge Luis\n"
      ],
      "metadata": {
        "id": "rm5azIhOxs4l"
      }
    },
    {
      "cell_type": "markdown",
      "source": [
        "5. Algoritmo que realice el cifrado de una cadena de caracteres mediante un método de sustitución Polialfabético de Vigenère. La cadena se ingresa al iniciar el algoritmo. El algoritmo debe mostrar la cadena de caracteres ingresada, la clave de cifrado y la cadena de caracteres cifrada.\n",
        "\n"
      ],
      "metadata": {
        "id": "6EaYEYtXwxtz"
      }
    },
    {
      "cell_type": "code",
      "execution_count": 1,
      "metadata": {
        "colab": {
          "base_uri": "https://localhost:8080/"
        },
        "id": "W0cziMq7wuxp",
        "outputId": "c31ec964-beff-4dd5-805e-681390292347"
      },
      "outputs": [
        {
          "output_type": "stream",
          "name": "stdout",
          "text": [
            "Introduzca el mensaje a cifrar: hola mundo\n",
            "Introduzca la palabra clave: emelec\n",
            "----------------------------------\n",
            "Mensaje original: HOLAMUNDO\n",
            "Palabra clave: EMELEC\n",
            "\n",
            "Cifrando...\n",
            "Mensaje cifrado: LAPLQWRPS\n",
            "\n",
            "Descifrando...\n",
            "Mensaje descifrado: HOLAMUNDO\n"
          ]
        }
      ],
      "source": [
        "import sys\n",
        "\n",
        "abecedario = 'ABCDEFGHIJKLMNOPQRSTUVWXYZ'\n",
        "mensaje = str(input(\"Introduzca el mensaje a cifrar: \"))\n",
        "mensaje = mensaje.replace(' ', '').upper()\t\n",
        "clave_original = str(input(\"Introduzca la palabra clave: \"))\n",
        "clave_original = clave_original.replace(' ', '').upper()\t\n",
        "clave = ''\n",
        "cifrado = ''\n",
        "descifrado = ''\n",
        "\n",
        "# Si la logitud del mensaje es mayor que la de la clave, se duplica la llave hasta que la longitud sea la misma que la del mensaje  \n",
        "if len(mensaje)>len(clave_original):\n",
        "\tfor i in range(int(len(mensaje)/len(clave_original))):\t\n",
        "\t\tclave += clave_original\t\t\t\t\t\t\t\t\n",
        "\tclave += clave_original[:len(mensaje)%len(clave_original)]\t\n",
        "\n",
        "# Si la longitud del mensaje es menor que la de la clave, se trunca la clave para que tenga la misma longitud que el mensaje \n",
        "elif len(mensaje)<len(clave_original):\n",
        "\tclave = clave_original[:len(mensaje)]\t\n",
        "\n",
        "# Si la longitud del mensaje es igual que la de la clave, se guarda la clave\n",
        "elif len(mensaje)==len(clave_original):\t\n",
        "\tclave = clave_original\t\n",
        "\n",
        "print(\"----------------------------------\")\n",
        "\n",
        "print ('Mensaje original: ' + mensaje)\n",
        "print ('Palabra clave: ' + clave_original)\n",
        "print()\n",
        "\n",
        "\n",
        "print ('Cifrando...')\n",
        "for i in range(len(mensaje)):\n",
        "\tx = abecedario.find(mensaje[i])\t\n",
        "\ty = abecedario.find(clave[i])\t\n",
        "\tsuma = x+y\t# suma\n",
        "\tmodulo = suma%len(abecedario)\t# Se calcula el módulo de la suma respecto a la longitud del abecedario\n",
        "\tcifrado += abecedario[modulo]\t# Se concatena el caracter cifrado con 'cifrado'\n",
        "\n",
        "print ('Mensaje cifrado: ' + cifrado)\n",
        "print ()\n",
        "\t\n",
        "\n",
        "print ('Descifrando...')\n",
        "for i in range(len(cifrado)):\n",
        "\tx = abecedario.find(cifrado[i])\n",
        "\ty = abecedario.find(clave[i])\t\n",
        "\tresta = x-y\t# resta\n",
        "\tmodulo = resta%len(abecedario)\t# Se calcula el módulo de la resta respecto a la longitud del abecedario\n",
        "\tdescifrado += abecedario[modulo]\t# Se concatena el caracter descifrado con 'descifrado'\n",
        "\n",
        "print ('Mensaje descifrado: ' + descifrado)"
      ]
    }
  ]
}